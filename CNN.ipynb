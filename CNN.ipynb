{
 "cells": [
  {
   "cell_type": "markdown",
   "metadata": {},
   "source": [
    "In this tutorial, we will go step-by-step through a simple model to distinguish different types of plankton and demonstrate some tools for exploring the image dataset. We will start by going through an example of one image to show how you could choose to develop a metric based on the shape of the object within the image. First, we import the necessary modules from scikit-image, matplotlib, scikit-learn, and numpy. If you don't currently have python installed, you can get the Anaconda distribution that includes all of the referenced packages below."
   ]
  },
  {
   "cell_type": "code",
   "execution_count": 1,
   "metadata": {},
   "outputs": [
    {
     "name": "stderr",
     "output_type": "stream",
     "text": [
      "/home/davide/miniconda3/envs/honours/lib/python3.6/site-packages/sklearn/cross_validation.py:41: DeprecationWarning: This module was deprecated in version 0.18 in favor of the model_selection module into which all the refactored classes and functions are moved. Also note that the interface of the new CV iterators are different from that of this module. This module will be removed in 0.20.\n",
      "  \"This module will be removed in 0.20.\", DeprecationWarning)\n"
     ]
    }
   ],
   "source": [
    "#Import libraries for doing image analysis\n",
    "from skimage.io import imread\n",
    "from skimage.transform import resize\n",
    "from sklearn.ensemble import RandomForestClassifier as RF\n",
    "import glob\n",
    "import os\n",
    "from sklearn import cross_validation\n",
    "from sklearn.cross_validation import StratifiedKFold as KFold\n",
    "from sklearn.metrics import classification_report\n",
    "from matplotlib import pyplot as plt\n",
    "from matplotlib import colors\n",
    "from pylab import cm\n",
    "from skimage import segmentation\n",
    "from skimage.morphology import watershed\n",
    "from skimage import measure\n",
    "from skimage import morphology\n",
    "import numpy as np\n",
    "import pandas as pd\n",
    "from scipy import ndimage\n",
    "from skimage.feature import peak_local_max\n",
    "import tensorflow as tf\n",
    "from math import ceil, floor\n",
    "\n",
    "# make graphics inline\n",
    "%matplotlib inline"
   ]
  },
  {
   "cell_type": "code",
   "execution_count": 2,
   "metadata": {
    "collapsed": true
   },
   "outputs": [],
   "source": [
    "import warnings\n",
    "warnings.filterwarnings(\"ignore\")"
   ]
  },
  {
   "cell_type": "markdown",
   "metadata": {},
   "source": [
    "#### Importing the Data\n",
    "\n",
    "The training data is organized in a series of subdirectories that contain examples for the each class of interest. We will store the list of directory names to aid in labelling the data classes for training and testing purposes."
   ]
  },
  {
   "cell_type": "code",
   "execution_count": 3,
   "metadata": {
    "collapsed": true
   },
   "outputs": [],
   "source": [
    "# get the classnames from the directory structure\n",
    "directory_names = list(set(glob.glob(os.path.join(\"competition_data\",\"train_small\", \"*\"))\\\n",
    " ).difference(set(glob.glob(os.path.join(\"competition_data\",\"train_small\",\"*.*\")))))"
   ]
  },
  {
   "cell_type": "markdown",
   "metadata": {},
   "source": [
    "#### Preparing Training Data\n"
   ]
  },
  {
   "cell_type": "code",
   "execution_count": 4,
   "metadata": {},
   "outputs": [
    {
     "name": "stdout",
     "output_type": "stream",
     "text": [
      "Reading images\n",
      "5.0 % done\n",
      "10.0 % done\n",
      "15.0 % done\n",
      "20.0 % done\n",
      "25.0 % done\n",
      "30.0 % done\n",
      "35.0 % done\n",
      "40.0 % done\n",
      "45.0 % done\n",
      "50.0 % done\n",
      "55.0 % done\n",
      "60.0 % done\n",
      "65.0 % done\n",
      "70.0 % done\n",
      "75.0 % done\n",
      "80.0 % done\n",
      "85.0 % done\n",
      "90.0 % done\n",
      "95.0 % done\n",
      "100.0 % done\n"
     ]
    }
   ],
   "source": [
    "# Rescale the images and create the combined metrics and training labels\n",
    "\n",
    "#get the total training images\n",
    "numberofImages = 0\n",
    "for folder in directory_names:\n",
    "    for fileNameDir in os.walk(folder):   \n",
    "        for fileName in fileNameDir[2]:\n",
    "             # Only read in the images\n",
    "            if fileName[-4:] != \".jpg\":\n",
    "              continue\n",
    "            numberofImages += 1\n",
    "            \n",
    "# We'll rescale the images to be 25x25\n",
    "maxPixel = 28\n",
    "imageSize = maxPixel * maxPixel\n",
    "num_rows = numberofImages # one row for each image in the training dataset\n",
    "num_features = imageSize # + 1 # for our ratio\n",
    "\n",
    "# X is the feature vector with one row of features per image\n",
    "# consisting of the pixel values and our metric\n",
    "X = np.zeros((num_rows, num_features), dtype=float)\n",
    "# y is the numeric class label \n",
    "y = np.zeros((num_rows))\n",
    "\n",
    "files = []\n",
    "# Generate training data\n",
    "i = 0    \n",
    "label = 0\n",
    "# List of string of class names\n",
    "namesClasses = list()\n",
    "\n",
    "print(\"Reading images\")\n",
    "# Navigate through the list of directories\n",
    "for folder in directory_names:\n",
    "    # Append the string class name for each class\n",
    "    currentClass = folder.split(os.pathsep)[-1]\n",
    "    namesClasses.append(currentClass)\n",
    "    for fileNameDir in os.walk(folder):   \n",
    "        for fileName in fileNameDir[2]:\n",
    "            # Only read in the images\n",
    "            if fileName[-4:] != \".jpg\":\n",
    "              continue\n",
    "\n",
    "            # Read in the images and create the features\n",
    "            nameFileImage = \"{0}{1}{2}\".format(fileNameDir[0], os.sep, fileName)            \n",
    "            image = imread(nameFileImage, as_grey=True)\n",
    "            files.append(nameFileImage)\n",
    "            #axisratio = getMinorMajorRatio(image)\n",
    "            image = resize(image, (maxPixel, maxPixel))\n",
    "\n",
    "            # Store the rescaled image pixels and the axis ratio\n",
    "            X[i, 0:imageSize] = np.reshape(image, (1, imageSize))\n",
    "            #X[i, imageSize] = axisratio\n",
    "\n",
    "            # Store the classlabel\n",
    "            y[i] = label\n",
    "            i += 1\n",
    "            # report progress for each 5% done  \n",
    "            report = [int((j+1)*num_rows/20.) for j in range(20)]\n",
    "            if i in report: \n",
    "                print (np.ceil(i *100.0 / num_rows), \"% done\")\n",
    "    label += 1"
   ]
  },
  {
   "cell_type": "markdown",
   "metadata": {},
   "source": [
    "## Augmenting Dataset"
   ]
  },
  {
   "cell_type": "code",
   "execution_count": 5,
   "metadata": {
    "collapsed": true
   },
   "outputs": [],
   "source": [
    "IMAGE_SIZE = maxPixel"
   ]
  },
  {
   "cell_type": "code",
   "execution_count": 6,
   "metadata": {
    "collapsed": true
   },
   "outputs": [],
   "source": [
    "def flip_images(X_imgs):\n",
    "    X_flip = []\n",
    "    tf.reset_default_graph()\n",
    "    X = tf.placeholder(tf.float32, shape = (IMAGE_SIZE, IMAGE_SIZE, 1))\n",
    "    tf_img1 = tf.image.flip_left_right(X)\n",
    "    with tf.Session() as sess:\n",
    "        sess.run(tf.global_variables_initializer())\n",
    "        for img in X_imgs:\n",
    "            flipped_imgs = sess.run([tf_img1], feed_dict = {X: img})\n",
    "            X_flip.extend(flipped_imgs)\n",
    "    X_flip = np.array(X_flip, dtype = np.float32)\n",
    "    return np.concatenate((X_imgs, X_flip))"
   ]
  },
  {
   "cell_type": "code",
   "execution_count": 7,
   "metadata": {
    "collapsed": true
   },
   "outputs": [],
   "source": [
    "def rotate_images(X_imgs):\n",
    "    X_rotate = []\n",
    "    tf.reset_default_graph()\n",
    "    X = tf.placeholder(tf.float32, shape = (IMAGE_SIZE, IMAGE_SIZE, 1))\n",
    "    k = tf.placeholder(tf.int32)\n",
    "    tf_img = tf.image.rot90(X, k = k)\n",
    "    with tf.Session() as sess:\n",
    "        sess.run(tf.global_variables_initializer())\n",
    "        for img in X_imgs:\n",
    "            for i in range(3):  # Rotation at 90, 180 and 270 degrees\n",
    "                rotated_img = sess.run(tf_img, feed_dict = {X: img, k: i + 1})\n",
    "                X_rotate.append(rotated_img)\n",
    "        \n",
    "    X_rotate = np.array(X_rotate, dtype = np.float32)\n",
    "    return np.concatenate((X_imgs, X_rotate))"
   ]
  },
  {
   "cell_type": "code",
   "execution_count": 8,
   "metadata": {
    "collapsed": true
   },
   "outputs": [],
   "source": [
    "def scale_images(X_imgs, scales=[0.80, 0.90]):\n",
    "    # Various settings needed for Tensorflow operation\n",
    "    boxes = np.zeros((len(scales), 4), dtype = np.float32)\n",
    "    for index, scale in enumerate(scales):\n",
    "        x1 = y1 = 0.5 - 0.5 * scale # To scale centrally\n",
    "        x2 = y2 = 0.5 + 0.5 * scale\n",
    "        boxes[index] = np.array([y1, x1, y2, x2], dtype = np.float32)\n",
    "    box_ind = np.zeros((len(scales)), dtype = np.int32)\n",
    "    crop_size = np.array([maxPixel, maxPixel], dtype = np.int32)\n",
    "    \n",
    "    X_scale_data = []\n",
    "    tf.reset_default_graph()\n",
    "    X = tf.placeholder(tf.float32, shape = (1, maxPixel, maxPixel, 1))\n",
    "    # Define Tensorflow operation for all scales but only one base image at a time\n",
    "    tf_img = tf.image.crop_and_resize(X, boxes, box_ind, crop_size)\n",
    "    with tf.Session() as sess:\n",
    "        sess.run(tf.global_variables_initializer())\n",
    "        \n",
    "        for img_data in X_imgs:\n",
    "            batch_img = np.expand_dims(img_data, axis = 0)\n",
    "            scaled_imgs = sess.run(tf_img, feed_dict = {X: batch_img})\n",
    "            X_scale_data.extend(scaled_imgs)\n",
    "    \n",
    "    X_scale_data = np.array(X_scale_data, dtype = np.float32)\n",
    "    return np.concatenate((X_imgs, X_scale_data))"
   ]
  },
  {
   "cell_type": "code",
   "execution_count": 9,
   "metadata": {
    "collapsed": true
   },
   "outputs": [],
   "source": [
    "def get_translate_parameters(index):\n",
    "    if index == 0: # Translate left 20 percent\n",
    "        offset = np.array([0.0, 0.2], dtype = np.float32)\n",
    "        size = np.array([IMAGE_SIZE, ceil(0.8 * IMAGE_SIZE)], dtype = np.int32)\n",
    "        w_start = 0\n",
    "        w_end = int(ceil(0.8 * IMAGE_SIZE))\n",
    "        h_start = 0\n",
    "        h_end = IMAGE_SIZE\n",
    "    elif index == 1: # Translate right 20 percent\n",
    "        offset = np.array([0.0, -0.2], dtype = np.float32)\n",
    "        size = np.array([IMAGE_SIZE, ceil(0.8 * IMAGE_SIZE)], dtype = np.int32)\n",
    "        w_start = int(floor((1 - 0.8) * IMAGE_SIZE))\n",
    "        w_end = IMAGE_SIZE\n",
    "        h_start = 0\n",
    "        h_end = IMAGE_SIZE\n",
    "    elif index == 2: # Translate top 20 percent\n",
    "        offset = np.array([0.2, 0.0], dtype = np.float32)\n",
    "        size = np.array([ceil(0.8 * IMAGE_SIZE), IMAGE_SIZE], dtype = np.int32)\n",
    "        w_start = 0\n",
    "        w_end = IMAGE_SIZE\n",
    "        h_start = 0\n",
    "        h_end = int(ceil(0.8 * IMAGE_SIZE)) \n",
    "    else: # Translate bottom 20 percent\n",
    "        offset = np.array([-0.2, 0.0], dtype = np.float32)\n",
    "        size = np.array([ceil(0.8 * IMAGE_SIZE), IMAGE_SIZE], dtype = np.int32)\n",
    "        w_start = 0\n",
    "        w_end = IMAGE_SIZE\n",
    "        h_start = int(floor((1 - 0.8) * IMAGE_SIZE))\n",
    "        h_end = IMAGE_SIZE \n",
    "        \n",
    "    return offset, size, w_start, w_end, h_start, h_end\n",
    "\n",
    "def translate_images(X_imgs):\n",
    "    offsets = np.zeros((len(X_imgs), 2), dtype = np.float32)\n",
    "    n_translations = 4\n",
    "    X_translated_arr = []\n",
    "    \n",
    "    tf.reset_default_graph()\n",
    "    with tf.Session() as sess:\n",
    "        sess.run(tf.global_variables_initializer())\n",
    "        for i in range(n_translations):\n",
    "            X_translated = np.zeros((len(X_imgs), IMAGE_SIZE, IMAGE_SIZE, 1), \n",
    "\t\t\t\t    dtype = np.float32)\n",
    "            X_translated.fill(1.0) # Filling background color\n",
    "            base_offset, size, w_start, w_end, h_start, h_end = get_translate_parameters(i)\n",
    "            offsets[:, :] = base_offset \n",
    "            glimpses = tf.image.extract_glimpse(X_imgs, size, offsets)\n",
    "            \n",
    "            glimpses = sess.run(glimpses)\n",
    "            X_translated[:, h_start: h_start + size[0], \\\n",
    "\t\t\t w_start: w_start + size[1], :] = glimpses\n",
    "            X_translated_arr.extend(X_translated)\n",
    "    X_translated_arr = np.array(X_translated_arr, dtype = np.float32)\n",
    "    return np.concatenate((X_imgs, X_translated_arr))"
   ]
  },
  {
   "cell_type": "code",
   "execution_count": 10,
   "metadata": {
    "collapsed": true
   },
   "outputs": [],
   "source": [
    "def augment_dataset(X_imgs, y_imgs):\n",
    "    assert len(X_imgs) == len(y_imgs)\n",
    "    X_aug = []\n",
    "    y_aug = []\n",
    "    i = 0\n",
    "    \n",
    "    for i in range(len(y_imgs)):\n",
    "        \n",
    "        imgs = [np.reshape(X_imgs[i,:],(IMAGE_SIZE,IMAGE_SIZE,1))]\n",
    "        label = [y_imgs[i]]\n",
    "        \n",
    "        imgs = flip_images(imgs)\n",
    "        imgs = rotate_images(imgs)\n",
    "        imgs = scale_images(imgs)\n",
    "        imgs = translate_images(imgs)\n",
    "        \n",
    "        labels = label * len(imgs)\n",
    "#         print(len(labels), imgs.shape)\n",
    "        \n",
    "        X_aug += [np.array(x) for x in imgs.tolist()[:]]\n",
    "        y_aug += labels\n",
    "        \n",
    "        i += 1\n",
    "        # report progress for each 5% done  \n",
    "        report = [int((j+1)*num_rows/20.) for j in range(20)]\n",
    "        if i in report: \n",
    "            print (np.ceil(i *100.0 / num_rows), \"% done\")\n",
    "        \n",
    "    return X_aug, y_aug"
   ]
  },
  {
   "cell_type": "code",
   "execution_count": 11,
   "metadata": {
    "scrolled": true
   },
   "outputs": [],
   "source": [
    "# X_aug, y_aug = augment_dataset(X, y)"
   ]
  },
  {
   "cell_type": "code",
   "execution_count": 12,
   "metadata": {
    "collapsed": true
   },
   "outputs": [],
   "source": [
    "# X_aug = np.reshape(np.array(X_aug), (len(X_aug),imageSize))\n",
    "# y_aug = np.array(y_aug)"
   ]
  },
  {
   "cell_type": "markdown",
   "metadata": {},
   "source": [
    "## CNN for image classification"
   ]
  },
  {
   "cell_type": "code",
   "execution_count": 13,
   "metadata": {
    "collapsed": true
   },
   "outputs": [],
   "source": [
    "from __future__ import absolute_import\n",
    "from __future__ import division\n",
    "from __future__ import print_function\n",
    "\n",
    "import numpy as np\n",
    "import tensorflow as tf\n",
    "\n",
    "tf.logging.set_verbosity(tf.logging.INFO)"
   ]
  },
  {
   "cell_type": "code",
   "execution_count": 14,
   "metadata": {},
   "outputs": [
    {
     "name": "stdout",
     "output_type": "stream",
     "text": [
      "10\n"
     ]
    }
   ],
   "source": [
    "N_CLASSES = len(set(y))\n",
    "print(N_CLASSES)"
   ]
  },
  {
   "cell_type": "code",
   "execution_count": 15,
   "metadata": {},
   "outputs": [],
   "source": [
    "def cnn_model_fn(features, labels, mode):\n",
    "    \n",
    "    \"\"\"Model function for CNN.\"\"\"\n",
    "    # Input Layer\n",
    "    # Reshape X to 4-D tensor: [batch_size, width, height, channels]\n",
    "    # Plankton images are 25x25 pixels, and have one color channel\n",
    "    input_layer = tf.reshape(features[\"x\"], [-1, 28, 28, 1])\n",
    "\n",
    "    # Convolutional Layer #1\n",
    "    # Computes 32 features using a 5x5 filter with ReLU activation.\n",
    "    # Padding is added to preserve width and height.\n",
    "    # Input Tensor Shape: [batch_size, 28, 28, 1]\n",
    "    # Output Tensor Shape: [batch_size, 28, 28, 32]\n",
    "    conv1 = tf.layers.conv2d(\n",
    "      inputs=input_layer,\n",
    "      filters=32,\n",
    "      kernel_size=[5, 5],\n",
    "      padding=\"same\",\n",
    "      activation=tf.nn.relu)\n",
    "\n",
    "    # Pooling Layer #1\n",
    "    # First max pooling layer with a 2x2 filter and stride of 2\n",
    "    # Input Tensor Shape: [batch_size, 28, 28, 32]\n",
    "    # Output Tensor Shape: [batch_size, 14, 14, 32]\n",
    "    pool1 = tf.layers.max_pooling2d(inputs=conv1, pool_size=[2, 2], strides=2)\n",
    "\n",
    "    # Convolutional Layer #2\n",
    "    # Computes 64 features using a 5x5 filter.\n",
    "    # Padding is added to preserve width and height.\n",
    "    # Input Tensor Shape: [batch_size, 14, 14, 32]\n",
    "    # Output Tensor Shape: [batch_size, 14, 14, 64]\n",
    "    conv2 = tf.layers.conv2d(\n",
    "      inputs=pool1,\n",
    "      filters=64,\n",
    "      kernel_size=[5, 5],\n",
    "      padding=\"same\",\n",
    "      activation=tf.nn.relu)\n",
    "\n",
    "    # Pooling Layer #2\n",
    "    # Second max pooling layer with a 2x2 filter and stride of 2\n",
    "    # Input Tensor Shape: [batch_size, 14, 14, 64]\n",
    "    # Output Tensor Shape: [batch_size, 7, 7, 64]\n",
    "    pool2 = tf.layers.max_pooling2d(inputs=conv2, pool_size=[2, 2], strides=2)\n",
    "\n",
    "    # Flatten tensor into a batch of vectors\n",
    "    # Input Tensor Shape: [batch_size, 7, 7, 64]\n",
    "    # Output Tensor Shape: [batch_size, 7 * 7 * 64]\n",
    "    pool2_flat = tf.reshape(pool2, [-1, 7 * 7 * 64])\n",
    "\n",
    "    # Dense Layer\n",
    "    # Densely connected layer with 1024 neurons\n",
    "    # Input Tensor Shape: [batch_size, 7 * 7 * 64]\n",
    "    # Output Tensor Shape: [batch_size, 1024]\n",
    "    dense = tf.layers.dense(inputs=pool2_flat, units=1024, activation=tf.nn.relu)\n",
    "\n",
    "    # Add dropout operation; 0.6 probability that element will be kept\n",
    "    dropout = tf.layers.dropout(\n",
    "      inputs=dense, rate=0.4, training=mode == tf.estimator.ModeKeys.TRAIN)\n",
    "\n",
    "    # Logits layer\n",
    "    # Input Tensor Shape: [batch_size, 1024]\n",
    "    # Output Tensor Shape: [batch_size, 10]\n",
    "    logits = tf.layers.dense(inputs=dropout, units=N_CLASSES)\n",
    "\n",
    "    predictions = {\n",
    "      # Generate predictions (for PREDICT and EVAL mode)\n",
    "      \"classes\": tf.argmax(input=logits, axis=1),\n",
    "      # Add `softmax_tensor` to the graph. It is used for PREDICT and by the\n",
    "      # `logging_hook`.\n",
    "      \"probabilities\": tf.nn.softmax(logits, name=\"softmax_tensor\")\n",
    "    }\n",
    "    if mode == tf.estimator.ModeKeys.PREDICT:\n",
    "        return tf.estimator.EstimatorSpec(mode=mode, predictions=predictions)\n",
    "\n",
    "    # Calculate Loss (for both TRAIN and EVAL modes)\n",
    "    loss = tf.losses.sparse_softmax_cross_entropy(labels=labels, logits=logits)\n",
    "\n",
    "    # Configure the Training Op (for TRAIN mode)\n",
    "    if mode == tf.estimator.ModeKeys.TRAIN:\n",
    "        optimizer = tf.train.GradientDescentOptimizer(learning_rate=0.001)\n",
    "        train_op = optimizer.minimize(\n",
    "            loss=loss,\n",
    "            global_step=tf.train.get_global_step())\n",
    "        return tf.estimator.EstimatorSpec(mode=mode, loss=loss, train_op=train_op)\n",
    "\n",
    "    # Add evaluation metrics (for EVAL mode)\n",
    "    eval_metric_ops = {\n",
    "      \"accuracy\": tf.metrics.accuracy(\n",
    "          labels=labels, predictions=predictions[\"classes\"])}\n",
    "    return tf.estimator.EstimatorSpec(\n",
    "      mode=mode, loss=loss, eval_metric_ops=eval_metric_ops)\n"
   ]
  },
  {
   "cell_type": "code",
   "execution_count": 16,
   "metadata": {},
   "outputs": [
    {
     "name": "stdout",
     "output_type": "stream",
     "text": [
      "Train / Total:  2373 / 2966\n",
      "Shapes: (2373, 784) (2373,) (593, 784) (593,)\n"
     ]
    }
   ],
   "source": [
    "#Generate indexes to shuffle dataset and create testset\n",
    "\n",
    "idx = np.arange(len(y))\n",
    "np.random.seed(seed=1234)\n",
    "np.random.shuffle(idx)\n",
    "separator = ceil(len(y)/10*8)\n",
    "print(\"Train / Total: \", separator, \"/\", len(y))\n",
    "\n",
    "train_data = X[idx[:separator]].astype('float32')\n",
    "eval_data = X[idx[separator:]].astype('float32')\n",
    "train_labels = y[idx[:separator]].astype(int)\n",
    "eval_labels = y[idx[separator:]].astype(int)\n",
    "\n",
    "train_data = train_data #[:, 0:-1] # Returns np.array, remove axis rateo feature\n",
    "eval_data = eval_data #[:, 0:-1]\n",
    "\n",
    "print(\"Shapes:\", train_data.shape, train_labels.shape, eval_data.shape, eval_labels.shape)"
   ]
  },
  {
   "cell_type": "code",
   "execution_count": 21,
   "metadata": {},
   "outputs": [],
   "source": [
    "def run_experiment(train_data, train_labels, eval_data, eval_labels):\n",
    "    # Create the Estimator\n",
    "    image_classifier = tf.estimator.Estimator(\n",
    "      model_fn=cnn_model_fn, model_dir=\"/tmp/image_convnet_model\")\n",
    "\n",
    "    # Set up logging for predictions\n",
    "    # Log the values in the \"Softmax\" tensor with label \"probabilities\"\n",
    "    tensors_to_log = {\"probabilities\": \"softmax_tensor\"}\n",
    "    logging_hook = tf.train.LoggingTensorHook(tensors=tensors_to_log, every_n_iter=50)\n",
    "\n",
    "    # Train the model\n",
    "    train_input_fn = tf.estimator.inputs.numpy_input_fn(\n",
    "      x={\"x\": train_data},\n",
    "      y=train_labels,\n",
    "      batch_size=100,\n",
    "      num_epochs=None,\n",
    "      shuffle=True)\n",
    "    image_classifier.train(\n",
    "      input_fn=train_input_fn,\n",
    "      steps=10000)#,\n",
    "      #hooks=[logging_hook])\n",
    "\n",
    "    # Evaluate the model and print results\n",
    "    eval_input_fn = tf.estimator.inputs.numpy_input_fn(\n",
    "      x={\"x\": eval_data},\n",
    "      y=eval_labels,\n",
    "      num_epochs=1,\n",
    "      shuffle=False)\n",
    "    eval_results = image_classifier.evaluate(input_fn=eval_input_fn)\n",
    "#     print(eval_results)\n",
    "    return eval_results"
   ]
  },
  {
   "cell_type": "code",
   "execution_count": 40,
   "metadata": {},
   "outputs": [
    {
     "name": "stdout",
     "output_type": "stream",
     "text": [
      "INFO:tensorflow:Using default config.\n",
      "INFO:tensorflow:Using config: {'_model_dir': '/tmp/image_convnet_model', '_tf_random_seed': None, '_save_summary_steps': 100, '_save_checkpoints_steps': None, '_save_checkpoints_secs': 600, '_session_config': None, '_keep_checkpoint_max': 5, '_keep_checkpoint_every_n_hours': 10000, '_log_step_count_steps': 100, '_service': None, '_cluster_spec': <tensorflow.python.training.server_lib.ClusterSpec object at 0x7ff9b8b7d1d0>, '_task_type': 'worker', '_task_id': 0, '_master': '', '_is_chief': True, '_num_ps_replicas': 0, '_num_worker_replicas': 1}\n",
      "INFO:tensorflow:Create CheckpointSaverHook.\n",
      "INFO:tensorflow:Restoring parameters from /tmp/image_convnet_model/model.ckpt-18004\n",
      "INFO:tensorflow:Saving checkpoints for 18005 into /tmp/image_convnet_model/model.ckpt.\n",
      "INFO:tensorflow:loss = 1.04895, step = 18005\n",
      "INFO:tensorflow:global_step/sec: 51.669\n",
      "INFO:tensorflow:loss = 0.98933, step = 18105 (1.936 sec)\n",
      "INFO:tensorflow:global_step/sec: 52.281\n",
      "INFO:tensorflow:loss = 0.982313, step = 18205 (1.913 sec)\n",
      "INFO:tensorflow:global_step/sec: 52.6177\n",
      "INFO:tensorflow:loss = 0.931104, step = 18305 (1.900 sec)\n",
      "INFO:tensorflow:global_step/sec: 52.5374\n",
      "INFO:tensorflow:loss = 0.977606, step = 18405 (1.903 sec)\n",
      "INFO:tensorflow:global_step/sec: 52.5265\n",
      "INFO:tensorflow:loss = 1.03321, step = 18505 (1.904 sec)\n",
      "INFO:tensorflow:global_step/sec: 52.4493\n",
      "INFO:tensorflow:loss = 1.01053, step = 18605 (1.907 sec)\n",
      "INFO:tensorflow:global_step/sec: 52.4472\n",
      "INFO:tensorflow:loss = 1.01425, step = 18705 (1.907 sec)\n",
      "INFO:tensorflow:global_step/sec: 52.4921\n",
      "INFO:tensorflow:loss = 1.03268, step = 18805 (1.905 sec)\n",
      "INFO:tensorflow:global_step/sec: 52.5265\n",
      "INFO:tensorflow:loss = 0.912536, step = 18905 (1.903 sec)\n",
      "INFO:tensorflow:global_step/sec: 48.9922\n",
      "INFO:tensorflow:loss = 0.870298, step = 19005 (2.041 sec)\n",
      "INFO:tensorflow:global_step/sec: 48.007\n",
      "INFO:tensorflow:loss = 0.942074, step = 19105 (2.083 sec)\n",
      "INFO:tensorflow:global_step/sec: 50.1075\n",
      "INFO:tensorflow:loss = 0.96091, step = 19205 (1.996 sec)\n",
      "INFO:tensorflow:global_step/sec: 52.3808\n",
      "INFO:tensorflow:loss = 1.01611, step = 19305 (1.909 sec)\n",
      "INFO:tensorflow:global_step/sec: 52.5772\n",
      "INFO:tensorflow:loss = 0.925816, step = 19405 (1.902 sec)\n",
      "INFO:tensorflow:global_step/sec: 52.4405\n",
      "INFO:tensorflow:loss = 0.904742, step = 19505 (1.907 sec)\n",
      "INFO:tensorflow:global_step/sec: 51.9808\n",
      "INFO:tensorflow:loss = 0.866529, step = 19605 (1.924 sec)\n",
      "INFO:tensorflow:global_step/sec: 52.5171\n",
      "INFO:tensorflow:loss = 0.831971, step = 19705 (1.904 sec)\n",
      "INFO:tensorflow:global_step/sec: 49.6818\n",
      "INFO:tensorflow:loss = 1.04641, step = 19805 (2.014 sec)\n",
      "INFO:tensorflow:global_step/sec: 48.6084\n",
      "INFO:tensorflow:loss = 0.94818, step = 19905 (2.056 sec)\n",
      "INFO:tensorflow:global_step/sec: 52.4755\n",
      "INFO:tensorflow:loss = 0.869763, step = 20005 (1.905 sec)\n",
      "INFO:tensorflow:global_step/sec: 52.4262\n",
      "INFO:tensorflow:loss = 0.911873, step = 20105 (1.907 sec)\n",
      "INFO:tensorflow:global_step/sec: 52.4974\n",
      "INFO:tensorflow:loss = 0.935281, step = 20205 (1.905 sec)\n",
      "INFO:tensorflow:global_step/sec: 52.4419\n",
      "INFO:tensorflow:loss = 0.898871, step = 20305 (1.907 sec)\n",
      "INFO:tensorflow:global_step/sec: 52.6729\n",
      "INFO:tensorflow:loss = 0.851084, step = 20405 (1.898 sec)\n",
      "INFO:tensorflow:global_step/sec: 52.4417\n",
      "INFO:tensorflow:loss = 0.855827, step = 20505 (1.907 sec)\n",
      "INFO:tensorflow:global_step/sec: 52.5472\n",
      "INFO:tensorflow:loss = 0.939241, step = 20605 (1.903 sec)\n",
      "INFO:tensorflow:global_step/sec: 52.3414\n",
      "INFO:tensorflow:loss = 0.818042, step = 20705 (1.911 sec)\n",
      "INFO:tensorflow:global_step/sec: 52.3893\n",
      "INFO:tensorflow:loss = 0.903115, step = 20805 (1.909 sec)\n",
      "INFO:tensorflow:global_step/sec: 52.5689\n",
      "INFO:tensorflow:loss = 0.921118, step = 20905 (1.902 sec)\n",
      "INFO:tensorflow:global_step/sec: 52.3693\n",
      "INFO:tensorflow:loss = 0.904329, step = 21005 (1.910 sec)\n",
      "INFO:tensorflow:global_step/sec: 52.7797\n",
      "INFO:tensorflow:loss = 0.876881, step = 21105 (1.895 sec)\n",
      "INFO:tensorflow:global_step/sec: 52.5151\n",
      "INFO:tensorflow:loss = 1.1094, step = 21205 (1.904 sec)\n",
      "INFO:tensorflow:global_step/sec: 52.4247\n",
      "INFO:tensorflow:loss = 0.736656, step = 21305 (1.907 sec)\n",
      "INFO:tensorflow:global_step/sec: 52.6047\n",
      "INFO:tensorflow:loss = 0.828919, step = 21405 (1.901 sec)\n",
      "INFO:tensorflow:global_step/sec: 52.7394\n",
      "INFO:tensorflow:loss = 0.737789, step = 21505 (1.896 sec)\n",
      "INFO:tensorflow:global_step/sec: 52.5045\n",
      "INFO:tensorflow:loss = 0.923124, step = 21605 (1.904 sec)\n",
      "INFO:tensorflow:global_step/sec: 52.5107\n",
      "INFO:tensorflow:loss = 0.849842, step = 21705 (1.905 sec)\n",
      "INFO:tensorflow:global_step/sec: 52.5113\n",
      "INFO:tensorflow:loss = 0.894868, step = 21805 (1.904 sec)\n",
      "INFO:tensorflow:global_step/sec: 52.547\n",
      "INFO:tensorflow:loss = 0.717227, step = 21905 (1.903 sec)\n",
      "INFO:tensorflow:global_step/sec: 52.4706\n",
      "INFO:tensorflow:loss = 0.935911, step = 22005 (1.906 sec)\n",
      "INFO:tensorflow:global_step/sec: 52.3938\n",
      "INFO:tensorflow:loss = 0.76185, step = 22105 (1.909 sec)\n",
      "INFO:tensorflow:global_step/sec: 52.5891\n",
      "INFO:tensorflow:loss = 0.985853, step = 22205 (1.901 sec)\n",
      "INFO:tensorflow:global_step/sec: 52.6217\n",
      "INFO:tensorflow:loss = 0.803351, step = 22305 (1.901 sec)\n",
      "INFO:tensorflow:global_step/sec: 52.4692\n",
      "INFO:tensorflow:loss = 0.948044, step = 22405 (1.906 sec)\n",
      "INFO:tensorflow:global_step/sec: 52.4029\n",
      "INFO:tensorflow:loss = 0.739308, step = 22505 (1.908 sec)\n",
      "INFO:tensorflow:global_step/sec: 52.4177\n",
      "INFO:tensorflow:loss = 0.91286, step = 22605 (1.908 sec)\n",
      "INFO:tensorflow:global_step/sec: 52.6595\n",
      "INFO:tensorflow:loss = 0.910757, step = 22705 (1.899 sec)\n",
      "INFO:tensorflow:global_step/sec: 52.3589\n",
      "INFO:tensorflow:loss = 0.748734, step = 22805 (1.910 sec)\n",
      "INFO:tensorflow:global_step/sec: 52.4512\n",
      "INFO:tensorflow:loss = 0.780012, step = 22905 (1.907 sec)\n",
      "INFO:tensorflow:global_step/sec: 52.65\n",
      "INFO:tensorflow:loss = 0.641418, step = 23005 (1.899 sec)\n",
      "INFO:tensorflow:global_step/sec: 52.6807\n",
      "INFO:tensorflow:loss = 0.776315, step = 23105 (1.898 sec)\n",
      "INFO:tensorflow:global_step/sec: 52.9407\n",
      "INFO:tensorflow:loss = 0.774478, step = 23205 (1.889 sec)\n",
      "INFO:tensorflow:global_step/sec: 52.619\n",
      "INFO:tensorflow:loss = 0.808007, step = 23305 (1.901 sec)\n",
      "INFO:tensorflow:global_step/sec: 52.5276\n",
      "INFO:tensorflow:loss = 0.76022, step = 23405 (1.904 sec)\n",
      "INFO:tensorflow:global_step/sec: 52.652\n",
      "INFO:tensorflow:loss = 0.958392, step = 23505 (1.899 sec)\n",
      "INFO:tensorflow:global_step/sec: 52.6777\n",
      "INFO:tensorflow:loss = 0.848527, step = 23605 (1.899 sec)\n",
      "INFO:tensorflow:global_step/sec: 52.533\n",
      "INFO:tensorflow:loss = 0.849899, step = 23705 (1.903 sec)\n",
      "INFO:tensorflow:global_step/sec: 52.5275\n",
      "INFO:tensorflow:loss = 0.81605, step = 23805 (1.904 sec)\n",
      "INFO:tensorflow:global_step/sec: 52.7176\n",
      "INFO:tensorflow:loss = 0.825341, step = 23905 (1.897 sec)\n",
      "INFO:tensorflow:global_step/sec: 52.5007\n",
      "INFO:tensorflow:loss = 0.930385, step = 24005 (1.905 sec)\n",
      "INFO:tensorflow:global_step/sec: 52.6959\n",
      "INFO:tensorflow:loss = 0.84363, step = 24105 (1.898 sec)\n",
      "INFO:tensorflow:global_step/sec: 52.7021\n",
      "INFO:tensorflow:loss = 0.894469, step = 24205 (1.897 sec)\n",
      "INFO:tensorflow:global_step/sec: 52.6978\n",
      "INFO:tensorflow:loss = 0.932726, step = 24305 (1.898 sec)\n",
      "INFO:tensorflow:global_step/sec: 52.5936\n",
      "INFO:tensorflow:loss = 0.867033, step = 24405 (1.901 sec)\n",
      "INFO:tensorflow:global_step/sec: 52.5706\n",
      "INFO:tensorflow:loss = 0.798395, step = 24505 (1.902 sec)\n",
      "INFO:tensorflow:global_step/sec: 52.7491\n",
      "INFO:tensorflow:loss = 0.597902, step = 24605 (1.895 sec)\n",
      "INFO:tensorflow:global_step/sec: 52.5167\n",
      "INFO:tensorflow:loss = 0.774302, step = 24705 (1.904 sec)\n",
      "INFO:tensorflow:global_step/sec: 52.6307\n",
      "INFO:tensorflow:loss = 0.79436, step = 24805 (1.900 sec)\n",
      "INFO:tensorflow:global_step/sec: 52.5672\n",
      "INFO:tensorflow:loss = 0.809074, step = 24905 (1.902 sec)\n",
      "INFO:tensorflow:global_step/sec: 52.5677\n",
      "INFO:tensorflow:loss = 0.821563, step = 25005 (1.902 sec)\n",
      "INFO:tensorflow:global_step/sec: 52.6601\n",
      "INFO:tensorflow:loss = 0.765687, step = 25105 (1.899 sec)\n",
      "INFO:tensorflow:global_step/sec: 52.7577\n",
      "INFO:tensorflow:loss = 0.796027, step = 25205 (1.895 sec)\n",
      "INFO:tensorflow:global_step/sec: 52.7014\n",
      "INFO:tensorflow:loss = 0.648992, step = 25305 (1.898 sec)\n",
      "INFO:tensorflow:global_step/sec: 52.6001\n",
      "INFO:tensorflow:loss = 0.735633, step = 25405 (1.902 sec)\n",
      "INFO:tensorflow:global_step/sec: 52.4059\n",
      "INFO:tensorflow:loss = 0.96507, step = 25505 (1.908 sec)\n"
     ]
    },
    {
     "name": "stdout",
     "output_type": "stream",
     "text": [
      "INFO:tensorflow:global_step/sec: 52.8797\n",
      "INFO:tensorflow:loss = 0.68804, step = 25605 (1.891 sec)\n",
      "INFO:tensorflow:global_step/sec: 52.9474\n",
      "INFO:tensorflow:loss = 0.746939, step = 25705 (1.889 sec)\n",
      "INFO:tensorflow:global_step/sec: 52.4234\n",
      "INFO:tensorflow:loss = 0.699626, step = 25805 (1.908 sec)\n",
      "INFO:tensorflow:global_step/sec: 52.7663\n",
      "INFO:tensorflow:loss = 0.863017, step = 25905 (1.895 sec)\n",
      "INFO:tensorflow:global_step/sec: 52.4104\n",
      "INFO:tensorflow:loss = 0.726468, step = 26005 (1.908 sec)\n",
      "INFO:tensorflow:global_step/sec: 52.6606\n",
      "INFO:tensorflow:loss = 0.657925, step = 26105 (1.899 sec)\n",
      "INFO:tensorflow:global_step/sec: 52.7378\n",
      "INFO:tensorflow:loss = 0.766014, step = 26205 (1.896 sec)\n",
      "INFO:tensorflow:global_step/sec: 52.1248\n",
      "INFO:tensorflow:loss = 0.609184, step = 26305 (1.919 sec)\n",
      "INFO:tensorflow:global_step/sec: 52.4089\n",
      "INFO:tensorflow:loss = 0.799613, step = 26405 (1.908 sec)\n",
      "INFO:tensorflow:global_step/sec: 52.5334\n",
      "INFO:tensorflow:loss = 0.873273, step = 26505 (1.903 sec)\n",
      "INFO:tensorflow:global_step/sec: 52.525\n",
      "INFO:tensorflow:loss = 0.685561, step = 26605 (1.904 sec)\n",
      "INFO:tensorflow:global_step/sec: 52.6752\n",
      "INFO:tensorflow:loss = 0.741422, step = 26705 (1.898 sec)\n",
      "INFO:tensorflow:global_step/sec: 52.8079\n",
      "INFO:tensorflow:loss = 0.832735, step = 26805 (1.894 sec)\n",
      "INFO:tensorflow:global_step/sec: 52.5737\n",
      "INFO:tensorflow:loss = 0.676044, step = 26905 (1.902 sec)\n",
      "INFO:tensorflow:global_step/sec: 52.5206\n",
      "INFO:tensorflow:loss = 0.602816, step = 27005 (1.904 sec)\n",
      "INFO:tensorflow:global_step/sec: 52.6267\n",
      "INFO:tensorflow:loss = 0.729126, step = 27105 (1.900 sec)\n",
      "INFO:tensorflow:global_step/sec: 52.6644\n",
      "INFO:tensorflow:loss = 0.806819, step = 27205 (1.899 sec)\n",
      "INFO:tensorflow:global_step/sec: 52.5589\n",
      "INFO:tensorflow:loss = 0.825069, step = 27305 (1.902 sec)\n",
      "INFO:tensorflow:global_step/sec: 52.5472\n",
      "INFO:tensorflow:loss = 0.673327, step = 27405 (1.903 sec)\n",
      "INFO:tensorflow:global_step/sec: 52.5957\n",
      "INFO:tensorflow:loss = 0.722413, step = 27505 (1.901 sec)\n",
      "INFO:tensorflow:global_step/sec: 52.7198\n",
      "INFO:tensorflow:loss = 0.703865, step = 27605 (1.897 sec)\n",
      "INFO:tensorflow:global_step/sec: 52.6726\n",
      "INFO:tensorflow:loss = 0.553652, step = 27705 (1.898 sec)\n",
      "INFO:tensorflow:global_step/sec: 52.7415\n",
      "INFO:tensorflow:loss = 0.692894, step = 27805 (1.896 sec)\n",
      "INFO:tensorflow:global_step/sec: 52.7183\n",
      "INFO:tensorflow:loss = 0.624739, step = 27905 (1.897 sec)\n",
      "INFO:tensorflow:Saving checkpoints for 28004 into /tmp/image_convnet_model/model.ckpt.\n",
      "INFO:tensorflow:Loss for final step: 0.713394.\n",
      "INFO:tensorflow:Starting evaluation at 2018-02-20-23:58:15\n",
      "INFO:tensorflow:Restoring parameters from /tmp/image_convnet_model/model.ckpt-28004\n",
      "INFO:tensorflow:Finished evaluation at 2018-02-20-23:58:15\n",
      "INFO:tensorflow:Saving dict for global step 28004: accuracy = 0.733558, global_step = 28004, loss = 0.783959\n"
     ]
    }
   ],
   "source": [
    "basic_results = run_experiment(train_data, train_labels, eval_data, eval_labels)"
   ]
  },
  {
   "cell_type": "code",
   "execution_count": 19,
   "metadata": {},
   "outputs": [
    {
     "name": "stdout",
     "output_type": "stream",
     "text": [
      "5.0 % done\n",
      "10.0 % done\n",
      "15.0 % done\n",
      "20.0 % done\n",
      "25.0 % done\n",
      "30.0 % done\n",
      "35.0 % done\n",
      "40.0 % done\n",
      "45.0 % done\n",
      "50.0 % done\n",
      "55.0 % done\n",
      "60.0 % done\n",
      "65.0 % done\n",
      "70.0 % done\n",
      "75.0 % done\n",
      "80.0 % done\n"
     ]
    }
   ],
   "source": [
    "train_data_AUGM, train_labels_AUGM = augment_dataset(train_data, train_labels)"
   ]
  },
  {
   "cell_type": "code",
   "execution_count": 37,
   "metadata": {},
   "outputs": [],
   "source": [
    "train_data_AUGM = np.array(train_data_AUGM, dtype='float32')\n",
    "train_labels_AUGM = np.array(train_labels_AUGM, dtype='int')"
   ]
  },
  {
   "cell_type": "code",
   "execution_count": 38,
   "metadata": {},
   "outputs": [
    {
     "data": {
      "text/plain": [
       "(113904, 28, 28, 1)"
      ]
     },
     "execution_count": 38,
     "metadata": {},
     "output_type": "execute_result"
    }
   ],
   "source": [
    "train_data_AUGM.shape"
   ]
  },
  {
   "cell_type": "code",
   "execution_count": 42,
   "metadata": {},
   "outputs": [
    {
     "name": "stdout",
     "output_type": "stream",
     "text": [
      "INFO:tensorflow:Using default config.\n",
      "INFO:tensorflow:Using config: {'_model_dir': '/tmp/image_convnet_model', '_tf_random_seed': None, '_save_summary_steps': 100, '_save_checkpoints_steps': None, '_save_checkpoints_secs': 600, '_session_config': None, '_keep_checkpoint_max': 5, '_keep_checkpoint_every_n_hours': 10000, '_log_step_count_steps': 100, '_service': None, '_cluster_spec': <tensorflow.python.training.server_lib.ClusterSpec object at 0x7ffa93527dd8>, '_task_type': 'worker', '_task_id': 0, '_master': '', '_is_chief': True, '_num_ps_replicas': 0, '_num_worker_replicas': 1}\n",
      "INFO:tensorflow:Create CheckpointSaverHook.\n",
      "INFO:tensorflow:Restoring parameters from /tmp/image_convnet_model/model.ckpt-28004\n",
      "INFO:tensorflow:Saving checkpoints for 28005 into /tmp/image_convnet_model/model.ckpt.\n",
      "INFO:tensorflow:loss = 0.866242, step = 28005\n",
      "INFO:tensorflow:global_step/sec: 51.5884\n",
      "INFO:tensorflow:loss = 0.749071, step = 28105 (1.939 sec)\n",
      "INFO:tensorflow:global_step/sec: 52.4407\n",
      "INFO:tensorflow:loss = 1.52382, step = 28205 (1.907 sec)\n",
      "INFO:tensorflow:global_step/sec: 52.5018\n",
      "INFO:tensorflow:loss = 0.961508, step = 28305 (1.904 sec)\n",
      "INFO:tensorflow:global_step/sec: 52.7032\n",
      "INFO:tensorflow:loss = 1.41625, step = 28405 (1.897 sec)\n",
      "INFO:tensorflow:global_step/sec: 52.6029\n",
      "INFO:tensorflow:loss = 0.897089, step = 28505 (1.901 sec)\n",
      "INFO:tensorflow:global_step/sec: 52.6751\n",
      "INFO:tensorflow:loss = 1.26191, step = 28605 (1.898 sec)\n",
      "INFO:tensorflow:global_step/sec: 52.5225\n",
      "INFO:tensorflow:loss = 1.08462, step = 28705 (1.905 sec)\n",
      "INFO:tensorflow:global_step/sec: 52.2993\n",
      "INFO:tensorflow:loss = 1.03816, step = 28805 (1.912 sec)\n",
      "INFO:tensorflow:global_step/sec: 52.4956\n",
      "INFO:tensorflow:loss = 1.36169, step = 28905 (1.905 sec)\n",
      "INFO:tensorflow:global_step/sec: 52.5104\n",
      "INFO:tensorflow:loss = 0.78012, step = 29005 (1.904 sec)\n",
      "INFO:tensorflow:global_step/sec: 52.5294\n",
      "INFO:tensorflow:loss = 1.33688, step = 29105 (1.904 sec)\n",
      "INFO:tensorflow:global_step/sec: 52.529\n",
      "INFO:tensorflow:loss = 0.994787, step = 29205 (1.903 sec)\n",
      "INFO:tensorflow:global_step/sec: 52.4443\n",
      "INFO:tensorflow:loss = 0.648022, step = 29305 (1.907 sec)\n",
      "INFO:tensorflow:global_step/sec: 52.4943\n",
      "INFO:tensorflow:loss = 1.03964, step = 29405 (1.905 sec)\n",
      "INFO:tensorflow:global_step/sec: 52.5918\n",
      "INFO:tensorflow:loss = 1.19819, step = 29505 (1.901 sec)\n",
      "INFO:tensorflow:global_step/sec: 52.3619\n",
      "INFO:tensorflow:loss = 0.960268, step = 29605 (1.910 sec)\n",
      "INFO:tensorflow:global_step/sec: 52.4811\n",
      "INFO:tensorflow:loss = 1.05833, step = 29705 (1.906 sec)\n",
      "INFO:tensorflow:global_step/sec: 52.6602\n",
      "INFO:tensorflow:loss = 0.723695, step = 29805 (1.899 sec)\n",
      "INFO:tensorflow:global_step/sec: 52.3798\n",
      "INFO:tensorflow:loss = 0.737938, step = 29905 (1.909 sec)\n",
      "INFO:tensorflow:global_step/sec: 52.5697\n",
      "INFO:tensorflow:loss = 1.16539, step = 30005 (1.902 sec)\n",
      "INFO:tensorflow:global_step/sec: 52.5654\n",
      "INFO:tensorflow:loss = 1.46411, step = 30105 (1.902 sec)\n",
      "INFO:tensorflow:global_step/sec: 52.4255\n",
      "INFO:tensorflow:loss = 0.751654, step = 30205 (1.908 sec)\n",
      "INFO:tensorflow:global_step/sec: 52.4777\n",
      "INFO:tensorflow:loss = 0.882563, step = 30305 (1.905 sec)\n",
      "INFO:tensorflow:global_step/sec: 52.4688\n",
      "INFO:tensorflow:loss = 0.983527, step = 30405 (1.906 sec)\n",
      "INFO:tensorflow:global_step/sec: 52.4787\n",
      "INFO:tensorflow:loss = 0.824, step = 30505 (1.906 sec)\n",
      "INFO:tensorflow:global_step/sec: 52.5359\n",
      "INFO:tensorflow:loss = 1.04925, step = 30605 (1.903 sec)\n",
      "INFO:tensorflow:global_step/sec: 52.6221\n",
      "INFO:tensorflow:loss = 0.949823, step = 30705 (1.901 sec)\n",
      "INFO:tensorflow:global_step/sec: 52.5333\n",
      "INFO:tensorflow:loss = 0.77729, step = 30805 (1.903 sec)\n",
      "INFO:tensorflow:global_step/sec: 52.6077\n",
      "INFO:tensorflow:loss = 1.05929, step = 30905 (1.901 sec)\n",
      "INFO:tensorflow:global_step/sec: 52.3299\n",
      "INFO:tensorflow:loss = 0.929414, step = 31005 (1.911 sec)\n",
      "INFO:tensorflow:global_step/sec: 52.5399\n",
      "INFO:tensorflow:loss = 1.23687, step = 31105 (1.903 sec)\n",
      "INFO:tensorflow:global_step/sec: 52.6282\n",
      "INFO:tensorflow:loss = 0.905278, step = 31205 (1.900 sec)\n",
      "INFO:tensorflow:global_step/sec: 52.6921\n",
      "INFO:tensorflow:loss = 1.10148, step = 31305 (1.898 sec)\n",
      "INFO:tensorflow:global_step/sec: 52.3535\n",
      "INFO:tensorflow:loss = 0.925812, step = 31405 (1.910 sec)\n",
      "INFO:tensorflow:global_step/sec: 52.2927\n",
      "INFO:tensorflow:loss = 0.993586, step = 31505 (1.913 sec)\n",
      "INFO:tensorflow:global_step/sec: 52.6069\n",
      "INFO:tensorflow:loss = 0.706164, step = 31605 (1.900 sec)\n",
      "INFO:tensorflow:global_step/sec: 52.2121\n",
      "INFO:tensorflow:loss = 0.854748, step = 31705 (1.915 sec)\n",
      "INFO:tensorflow:global_step/sec: 52.2522\n",
      "INFO:tensorflow:loss = 1.20236, step = 31805 (1.914 sec)\n",
      "INFO:tensorflow:global_step/sec: 52.6517\n",
      "INFO:tensorflow:loss = 0.940534, step = 31905 (1.900 sec)\n",
      "INFO:tensorflow:global_step/sec: 52.5024\n",
      "INFO:tensorflow:loss = 0.603382, step = 32005 (1.905 sec)\n",
      "INFO:tensorflow:global_step/sec: 52.4198\n",
      "INFO:tensorflow:loss = 1.03214, step = 32105 (1.908 sec)\n",
      "INFO:tensorflow:global_step/sec: 52.5152\n",
      "INFO:tensorflow:loss = 1.11914, step = 32205 (1.904 sec)\n",
      "INFO:tensorflow:global_step/sec: 52.7142\n",
      "INFO:tensorflow:loss = 0.919276, step = 32305 (1.897 sec)\n",
      "INFO:tensorflow:global_step/sec: 52.5373\n",
      "INFO:tensorflow:loss = 1.19528, step = 32405 (1.903 sec)\n",
      "INFO:tensorflow:global_step/sec: 52.529\n",
      "INFO:tensorflow:loss = 0.972217, step = 32505 (1.904 sec)\n",
      "INFO:tensorflow:global_step/sec: 52.6947\n",
      "INFO:tensorflow:loss = 1.03285, step = 32605 (1.898 sec)\n",
      "INFO:tensorflow:global_step/sec: 52.5027\n",
      "INFO:tensorflow:loss = 0.708905, step = 32705 (1.904 sec)\n",
      "INFO:tensorflow:global_step/sec: 52.4577\n",
      "INFO:tensorflow:loss = 1.04879, step = 32805 (1.907 sec)\n",
      "INFO:tensorflow:global_step/sec: 52.3462\n",
      "INFO:tensorflow:loss = 0.738895, step = 32905 (1.910 sec)\n",
      "INFO:tensorflow:global_step/sec: 49.2663\n",
      "INFO:tensorflow:loss = 0.854784, step = 33005 (2.030 sec)\n",
      "INFO:tensorflow:global_step/sec: 52.5095\n",
      "INFO:tensorflow:loss = 0.906661, step = 33105 (1.906 sec)\n",
      "INFO:tensorflow:global_step/sec: 52.5746\n",
      "INFO:tensorflow:loss = 0.849197, step = 33205 (1.900 sec)\n",
      "INFO:tensorflow:global_step/sec: 49.6618\n",
      "INFO:tensorflow:loss = 0.925795, step = 33305 (2.014 sec)\n",
      "INFO:tensorflow:global_step/sec: 52.4345\n",
      "INFO:tensorflow:loss = 1.0287, step = 33405 (1.907 sec)\n",
      "INFO:tensorflow:global_step/sec: 52.6216\n",
      "INFO:tensorflow:loss = 1.285, step = 33505 (1.900 sec)\n",
      "INFO:tensorflow:global_step/sec: 52.6547\n",
      "INFO:tensorflow:loss = 1.00702, step = 33605 (1.899 sec)\n",
      "INFO:tensorflow:global_step/sec: 52.7397\n",
      "INFO:tensorflow:loss = 0.664596, step = 33705 (1.896 sec)\n",
      "INFO:tensorflow:global_step/sec: 52.7465\n",
      "INFO:tensorflow:loss = 0.828754, step = 33805 (1.896 sec)\n",
      "INFO:tensorflow:global_step/sec: 52.7514\n",
      "INFO:tensorflow:loss = 1.08181, step = 33905 (1.896 sec)\n",
      "INFO:tensorflow:global_step/sec: 52.6319\n",
      "INFO:tensorflow:loss = 0.699412, step = 34005 (1.900 sec)\n",
      "INFO:tensorflow:global_step/sec: 52.6493\n",
      "INFO:tensorflow:loss = 1.21538, step = 34105 (1.899 sec)\n",
      "INFO:tensorflow:global_step/sec: 52.709\n",
      "INFO:tensorflow:loss = 0.99698, step = 34205 (1.897 sec)\n",
      "INFO:tensorflow:global_step/sec: 52.449\n",
      "INFO:tensorflow:loss = 0.932215, step = 34305 (1.907 sec)\n",
      "INFO:tensorflow:global_step/sec: 52.7628\n",
      "INFO:tensorflow:loss = 1.10726, step = 34405 (1.895 sec)\n",
      "INFO:tensorflow:global_step/sec: 52.5844\n",
      "INFO:tensorflow:loss = 0.960647, step = 34505 (1.902 sec)\n",
      "INFO:tensorflow:global_step/sec: 52.7159\n",
      "INFO:tensorflow:loss = 1.08634, step = 34605 (1.897 sec)\n",
      "INFO:tensorflow:global_step/sec: 52.6705\n",
      "INFO:tensorflow:loss = 0.879139, step = 34705 (1.899 sec)\n",
      "INFO:tensorflow:global_step/sec: 52.6782\n",
      "INFO:tensorflow:loss = 1.0251, step = 34805 (1.898 sec)\n",
      "INFO:tensorflow:global_step/sec: 52.7882\n",
      "INFO:tensorflow:loss = 0.704219, step = 34905 (1.894 sec)\n",
      "INFO:tensorflow:global_step/sec: 52.5682\n",
      "INFO:tensorflow:loss = 0.764142, step = 35005 (1.902 sec)\n",
      "INFO:tensorflow:global_step/sec: 52.529\n",
      "INFO:tensorflow:loss = 0.851417, step = 35105 (1.904 sec)\n",
      "INFO:tensorflow:global_step/sec: 52.6539\n",
      "INFO:tensorflow:loss = 0.89599, step = 35205 (1.899 sec)\n",
      "INFO:tensorflow:global_step/sec: 52.6297\n",
      "INFO:tensorflow:loss = 0.673937, step = 35305 (1.900 sec)\n",
      "INFO:tensorflow:global_step/sec: 52.5946\n",
      "INFO:tensorflow:loss = 0.627345, step = 35405 (1.901 sec)\n",
      "INFO:tensorflow:global_step/sec: 52.4888\n",
      "INFO:tensorflow:loss = 0.698997, step = 35505 (1.905 sec)\n"
     ]
    },
    {
     "name": "stdout",
     "output_type": "stream",
     "text": [
      "INFO:tensorflow:global_step/sec: 52.5931\n",
      "INFO:tensorflow:loss = 0.598958, step = 35605 (1.902 sec)\n",
      "INFO:tensorflow:global_step/sec: 52.5805\n",
      "INFO:tensorflow:loss = 0.983882, step = 35705 (1.901 sec)\n",
      "INFO:tensorflow:global_step/sec: 52.539\n",
      "INFO:tensorflow:loss = 1.21298, step = 35805 (1.904 sec)\n",
      "INFO:tensorflow:global_step/sec: 52.6232\n",
      "INFO:tensorflow:loss = 0.722177, step = 35905 (1.900 sec)\n",
      "INFO:tensorflow:global_step/sec: 52.567\n",
      "INFO:tensorflow:loss = 0.736823, step = 36005 (1.902 sec)\n",
      "INFO:tensorflow:global_step/sec: 52.6842\n",
      "INFO:tensorflow:loss = 0.806179, step = 36105 (1.898 sec)\n",
      "INFO:tensorflow:global_step/sec: 52.5846\n",
      "INFO:tensorflow:loss = 0.720394, step = 36205 (1.902 sec)\n",
      "INFO:tensorflow:global_step/sec: 52.6674\n",
      "INFO:tensorflow:loss = 0.765246, step = 36305 (1.898 sec)\n",
      "INFO:tensorflow:global_step/sec: 52.6163\n",
      "INFO:tensorflow:loss = 0.819428, step = 36405 (1.901 sec)\n",
      "INFO:tensorflow:global_step/sec: 52.6368\n",
      "INFO:tensorflow:loss = 0.875851, step = 36505 (1.900 sec)\n",
      "INFO:tensorflow:global_step/sec: 52.7159\n",
      "INFO:tensorflow:loss = 0.982941, step = 36605 (1.897 sec)\n",
      "INFO:tensorflow:global_step/sec: 52.5988\n",
      "INFO:tensorflow:loss = 0.658571, step = 36705 (1.901 sec)\n",
      "INFO:tensorflow:global_step/sec: 52.6314\n",
      "INFO:tensorflow:loss = 0.892648, step = 36805 (1.900 sec)\n",
      "INFO:tensorflow:global_step/sec: 52.4665\n",
      "INFO:tensorflow:loss = 0.877635, step = 36905 (1.906 sec)\n",
      "INFO:tensorflow:global_step/sec: 52.7318\n",
      "INFO:tensorflow:loss = 0.734065, step = 37005 (1.897 sec)\n",
      "INFO:tensorflow:global_step/sec: 52.5633\n",
      "INFO:tensorflow:loss = 0.8282, step = 37105 (1.901 sec)\n",
      "INFO:tensorflow:global_step/sec: 52.7801\n",
      "INFO:tensorflow:loss = 0.736641, step = 37205 (1.895 sec)\n",
      "INFO:tensorflow:global_step/sec: 52.6902\n",
      "INFO:tensorflow:loss = 0.975336, step = 37305 (1.898 sec)\n",
      "INFO:tensorflow:global_step/sec: 52.7592\n",
      "INFO:tensorflow:loss = 0.686904, step = 37405 (1.895 sec)\n",
      "INFO:tensorflow:global_step/sec: 52.7558\n",
      "INFO:tensorflow:loss = 0.876881, step = 37505 (1.896 sec)\n",
      "INFO:tensorflow:global_step/sec: 52.6743\n",
      "INFO:tensorflow:loss = 1.09983, step = 37605 (1.899 sec)\n",
      "INFO:tensorflow:global_step/sec: 52.7061\n",
      "INFO:tensorflow:loss = 0.714113, step = 37705 (1.897 sec)\n",
      "INFO:tensorflow:global_step/sec: 52.6603\n",
      "INFO:tensorflow:loss = 0.744124, step = 37805 (1.899 sec)\n",
      "INFO:tensorflow:global_step/sec: 52.6136\n",
      "INFO:tensorflow:loss = 0.941381, step = 37905 (1.901 sec)\n",
      "INFO:tensorflow:Saving checkpoints for 38004 into /tmp/image_convnet_model/model.ckpt.\n",
      "INFO:tensorflow:Loss for final step: 1.03611.\n",
      "INFO:tensorflow:Starting evaluation at 2018-02-21-00:09:43\n",
      "INFO:tensorflow:Restoring parameters from /tmp/image_convnet_model/model.ckpt-38004\n",
      "INFO:tensorflow:Finished evaluation at 2018-02-21-00:09:43\n",
      "INFO:tensorflow:Saving dict for global step 38004: accuracy = 0.703204, global_step = 38004, loss = 0.85365\n"
     ]
    }
   ],
   "source": [
    "augmented_results = run_experiment(train_data_AUGM, train_labels_AUGM, eval_data, eval_labels)"
   ]
  },
  {
   "cell_type": "code",
   "execution_count": 43,
   "metadata": {},
   "outputs": [
    {
     "name": "stdout",
     "output_type": "stream",
     "text": [
      "BASIC RESULTS:  {'accuracy': 0.73355818, 'loss': 0.78395879, 'global_step': 28004}\n",
      "AUGMENTED RESULTS:  {'accuracy': 0.70320404, 'loss': 0.85364974, 'global_step': 38004}\n"
     ]
    }
   ],
   "source": [
    "print(\"BASIC RESULTS: \", basic_results)\n",
    "print(\"AUGMENTED RESULTS: \", augmented_results)"
   ]
  },
  {
   "cell_type": "markdown",
   "metadata": {},
   "source": [
    "#### Width-to-Length Ratio Class Separation\n",
    "\n",
    "Now that we have calculated the width-to-length ratio metric for all the images, we can look at the class separation to see how well our feature performs. We'll compare pairs of the classes' distributions by plotting each pair of classes. While this will not cover the whole space of hundreds of possible combinations, it will give us a feel for how similar or dissimilar different classes are in this feature, and the class distributions should be comparable across subplots.\n",
    "\n"
   ]
  },
  {
   "cell_type": "code",
   "execution_count": 30,
   "metadata": {},
   "outputs": [
    {
     "data": {
      "image/png": "[encoded data removed]",
      "text/plain": [
       "<matplotlib.figure.Figure at 0x7f04960dd2b0>"
      ]
     },
     "metadata": {},
     "output_type": "display_data"
    }
   ],
   "source": [
    "# Loop through the classes two at a time and compare their distributions of the Width/Length Ratio\n",
    "\n",
    "#Create a DataFrame object to make subsetting the data on the class \n",
    "df = pd.DataFrame({\"class\": y[:], \"ratio\": X[:, num_features-1]})\n",
    "\n",
    "f = plt.figure(figsize=(30, 20))\n",
    "#we suppress zeros and choose a few large classes to better highlight the distributions.\n",
    "df = df.loc[df[\"ratio\"] > 0]\n",
    "minimumSize = 20 \n",
    "counts = df[\"class\"].value_counts()\n",
    "largeclasses = [int(x) for x in list(counts.loc[counts > minimumSize].index)]\n",
    "# Loop through 40 of the classes \n",
    "for j in range(0,8,2):\n",
    "    subfig = plt.subplot(2, 4, j/2 +1)\n",
    "    # Plot the normalized histograms for two classes\n",
    "    classind1 = largeclasses[j]\n",
    "    classind2 = largeclasses[j+1]\n",
    "    n, bins,p = plt.hist(df.loc[df[\"class\"] == classind1][\"ratio\"].values,\\\n",
    "                         alpha=0.5, bins=[x*0.01 for x in range(100)], \\\n",
    "                         label=namesClasses[classind1].split(os.sep)[-1], normed=1)\n",
    "\n",
    "    n2, bins,p = plt.hist(df.loc[df[\"class\"] == (classind2)][\"ratio\"].values,\\\n",
    "                          alpha=0.5, bins=bins, label=namesClasses[classind2].split(os.sep)[-1],normed=1)\n",
    "    subfig.set_ylim([0.,10.])\n",
    "    plt.legend(loc='upper right')\n",
    "    plt.xlabel(\"Width/Length Ratio\")"
   ]
  },
  {
   "cell_type": "markdown",
   "metadata": {},
   "source": [
    "### Plots with Augmented Dataset"
   ]
  },
  {
   "cell_type": "code",
   "execution_count": 32,
   "metadata": {},
   "outputs": [
    {
     "data": {
      "image/png": "[encoded data removed]",
      "text/plain": [
       "<matplotlib.figure.Figure at 0x7f052078c828>"
      ]
     },
     "metadata": {},
     "output_type": "display_data"
    }
   ],
   "source": [
    "# Loop through the classes two at a time and compare their distributions of the Width/Length Ratio\n",
    "\n",
    "#Create a DataFrame object to make subsetting the data on the class \n",
    "df = pd.DataFrame({\"class\": y_aug[:], \"ratio\": X_aug[:, num_features-1]})\n",
    "\n",
    "f = plt.figure(figsize=(30, 20))\n",
    "#we suppress zeros and choose a few large classes to better highlight the distributions.\n",
    "df = df.loc[df[\"ratio\"] > 0]\n",
    "minimumSize = 20 \n",
    "counts = df[\"class\"].value_counts()\n",
    "largeclasses = [int(x) for x in list(counts.loc[counts > minimumSize].index)]\n",
    "# Loop through 40 of the classes \n",
    "for j in range(0,8,2):\n",
    "    subfig = plt.subplot(2, 4, j/2 +1)\n",
    "    # Plot the normalized histograms for two classes\n",
    "    classind1 = largeclasses[j]\n",
    "    classind2 = largeclasses[j+1]\n",
    "    n, bins,p = plt.hist(df.loc[df[\"class\"] == classind1][\"ratio\"].values,\\\n",
    "                         alpha=0.5, bins=[x*0.01 for x in range(100)], \\\n",
    "                         label=namesClasses[classind1].split(os.sep)[-1], normed=1)\n",
    "\n",
    "    n2, bins,p = plt.hist(df.loc[df[\"class\"] == (classind2)][\"ratio\"].values,\\\n",
    "                          alpha=0.5, bins=bins, label=namesClasses[classind2].split(os.sep)[-1],normed=1)\n",
    "    subfig.set_ylim([0.,10.])\n",
    "    plt.legend(loc='upper right')\n",
    "    plt.xlabel(\"Width/Length Ratio\")"
   ]
  },
  {
   "cell_type": "markdown",
   "metadata": {},
   "source": [
    "From the (truncated) figure above, you will see some cases where the classes are well separated and others were they are not. It is typical that one single feature will not allow you to completely separate more than thirty distinct classes. You will need to be creative in coming up with additional metrics to discriminate between all the classes.\n",
    "\n",
    "#### Random Forest Classification\n",
    "\n",
    "We choose a random forest model to classify the images. Random forests perform well in many classification tasks and have robust default settings. We will give a brief description of a random forest model so that you can understand its two main free parameters: n_estimators and max_features.\n",
    "\n",
    "A random forest model is an ensemble model of n_estimators number of decision trees. During the training process, each decision tree is grown automatically by making a series of conditional splits on the data. At each split in the decision tree, a random sample of max_features number of features is chosen and used to make a conditional decision on which of the two nodes that the data will be grouped in. The best condition for the split is determined by the split that maximizes the class purity of the nodes directly below. The tree continues to grow by making additional splits until the leaves are pure or the leaves have less than the minimum number of samples for a split (in sklearn default for min_samples_split is two data points). The final majority class purity of the terminal nodes of the decision tree are used for making predictions on what class a new data point will belong. Then, the aggregate vote across the forest determines the class prediction for new samples.\n",
    "\n",
    "With our training data consisting of the feature vector X and the class label vector y, we will now calculate some class metrics for the performance of our model, by class and overall. First, we train the random forest on all the available data and let it perform the 5-fold cross validation. Then we perform the cross validation using the KFold method, which splits the data into train and test sets, and a classification report. The classification report provides a useful list of performance metrics for your classifier vs. the internal metrics of the random forest module.\n",
    "\n"
   ]
  },
  {
   "cell_type": "code",
   "execution_count": 33,
   "metadata": {},
   "outputs": [
    {
     "name": "stdout",
     "output_type": "stream",
     "text": [
      "Training\n",
      "Accuracy of all classes\n",
      "0.716075599594\n"
     ]
    }
   ],
   "source": [
    "print(\"Training\")\n",
    "# n_estimators is the number of decision trees\n",
    "# max_features also known as m_try is set to the default value of the square root of the number of features\n",
    "clf = RF(n_estimators=100, n_jobs=3);\n",
    "scores = cross_validation.cross_val_score(clf, X, y, cv=5, n_jobs=1);\n",
    "print(\"Accuracy of all classes\")\n",
    "print(np.mean(scores))"
   ]
  },
  {
   "cell_type": "code",
   "execution_count": 34,
   "metadata": {},
   "outputs": [
    {
     "name": "stdout",
     "output_type": "stream",
     "text": [
      "                                                               precision    recall  f1-score   support\n",
      "\n",
      "                  competition_data/train_small/detritus_other       0.63      0.90      0.75       914\n",
      "              competition_data/train_small/hydromedusae_typeF       0.80      0.61      0.69        61\n",
      "competition_data/train_small/ctenophore_cydippid_no_tentacles       0.00      0.00      0.00        42\n",
      "      competition_data/train_small/copepod_calanoid_eucalanus       0.97      0.38      0.54        96\n",
      "            competition_data/train_small/detritus_filamentous       0.54      0.46      0.50       394\n",
      "              competition_data/train_small/hydromedusae_typeE       0.00      0.00      0.00        14\n",
      "               competition_data/train_small/ctenophore_cestid       1.00      0.08      0.15       113\n",
      "                competition_data/train_small/crustacean_other       0.75      0.63      0.68       201\n",
      "        competition_data/train_small/appendicularian_straight       0.69      0.29      0.40       242\n",
      "              competition_data/train_small/acantharia_protist       0.87      0.94      0.90       889\n",
      "\n",
      "                                                  avg / total       0.72      0.72      0.68      2966\n",
      "\n"
     ]
    }
   ],
   "source": [
    "kf = KFold(y, n_folds=5)\n",
    "y_pred = y * 0\n",
    "for train, test in kf:\n",
    "    X_train, X_test, y_train, y_test = X[train,:], X[test,:], y[train], y[test]\n",
    "    clf = RF(n_estimators=100, n_jobs=3)\n",
    "    clf.fit(X_train, y_train)\n",
    "    y_pred[test] = clf.predict(X_test)\n",
    "print(classification_report(y, y_pred, target_names=namesClasses))"
   ]
  },
  {
   "cell_type": "markdown",
   "metadata": {},
   "source": [
    "The current model, while somewhat accurate overall, doesn't do well for all classes, including the shrimp caridean, stomatopod, or hydromedusae tentacles classes. For others it does quite well, getting many of the correct classifications for trichodesmium_puff and copepod_oithona_eggs classes. The metrics shown above for measuring model performance include precision, recall, and f1-score. The precision metric gives probability that a chosen class is correct, (true positives / (true positive + false positives)), while recall measures the ability of the model correctly classify examples of a given class, (true positives / (false negatives + true positives)). The F1 score is the geometric average of the precision and recall.\n",
    "\n",
    "The competition scoring uses a multiclass log-loss metric to compute your overall score. In the next steps, we define the multiclass log-loss function and compute your estimated score on the training dataset."
   ]
  },
  {
   "cell_type": "code",
   "execution_count": 35,
   "metadata": {
    "collapsed": true
   },
   "outputs": [],
   "source": [
    "def multiclass_log_loss(y_true, y_pred, eps=1e-15):\n",
    "    \"\"\"Multi class version of Logarithmic Loss metric.\n",
    "    https://www.kaggle.com/wiki/MultiClassLogLoss\n",
    "\n",
    "    Parameters\n",
    "    ----------\n",
    "    y_true : array, shape = [n_samples]\n",
    "            true class, intergers in [0, n_classes - 1)\n",
    "    y_pred : array, shape = [n_samples, n_classes]\n",
    "\n",
    "    Returns\n",
    "    -------\n",
    "    loss : float\n",
    "    \"\"\"\n",
    "    predictions = np.clip(y_pred, eps, 1 - eps)\n",
    "\n",
    "    # normalize row sums to 1\n",
    "    predictions /= predictions.sum(axis=1)[:, np.newaxis]\n",
    "\n",
    "    actual = np.zeros(y_pred.shape)\n",
    "    n_samples = actual.shape[0]\n",
    "    actual[np.arange(n_samples), y_true.astype(int)] = 1\n",
    "    vectsum = np.sum(actual * np.log(predictions))\n",
    "    loss = -1.0 / n_samples * vectsum\n",
    "    return loss"
   ]
  },
  {
   "cell_type": "code",
   "execution_count": 36,
   "metadata": {
    "collapsed": true
   },
   "outputs": [],
   "source": [
    "# Get the probability predictions for computing the log-loss function\n",
    "kf = KFold(y, n_folds=5)\n",
    "# prediction probabilities number of samples, by number of classes\n",
    "y_pred = np.zeros((len(y),len(set(y))))\n",
    "for train, test in kf:\n",
    "    X_train, X_test, y_train, y_test = X[train,:], X[test,:], y[train], y[test]\n",
    "    clf = RF(n_estimators=100, n_jobs=3)\n",
    "    clf.fit(X_train, y_train)\n",
    "    y_pred[test] = clf.predict_proba(X_test)"
   ]
  },
  {
   "cell_type": "code",
   "execution_count": 37,
   "metadata": {},
   "outputs": [
    {
     "data": {
      "text/plain": [
       "0.96844833753168413"
      ]
     },
     "execution_count": 37,
     "metadata": {},
     "output_type": "execute_result"
    }
   ],
   "source": [
    "multiclass_log_loss(y, y_pred)"
   ]
  },
  {
   "cell_type": "code",
   "execution_count": 45,
   "metadata": {},
   "outputs": [
    {
     "data": {
      "text/plain": [
       "(2966,)"
      ]
     },
     "execution_count": 45,
     "metadata": {},
     "output_type": "execute_result"
    }
   ],
   "source": [
    "y.shape"
   ]
  },
  {
   "cell_type": "markdown",
   "metadata": {},
   "source": [
    "## Evaluation with augmented dataset"
   ]
  },
  {
   "cell_type": "code",
   "execution_count": 48,
   "metadata": {},
   "outputs": [
    {
     "name": "stdout",
     "output_type": "stream",
     "text": [
      "Training\n",
      "Accuracy of all classes\n",
      "0.742152463304\n"
     ]
    }
   ],
   "source": [
    "print(\"Training\")\n",
    "# n_estimators is the number of decision trees\n",
    "# max_features also known as m_try is set to the default value of the square root of the number of features\n",
    "clf = RF(n_estimators=100, n_jobs=3);\n",
    "scores = cross_validation.cross_val_score(clf, X_aug, y_aug, cv=5, n_jobs=1);\n",
    "print(\"Accuracy of all classes\")\n",
    "print(np.mean(scores))"
   ]
  },
  {
   "cell_type": "code",
   "execution_count": 38,
   "metadata": {
    "collapsed": true
   },
   "outputs": [],
   "source": [
    "# Get the probability predictions for computing the log-loss function\n",
    "kf = KFold(y_aug, n_folds=5)\n",
    "# prediction probabilities number of samples, by number of classes\n",
    "y_aug_pred = np.zeros((len(y_aug),len(set(y_aug))))\n",
    "for train, test in kf:\n",
    "    X_train, X_test, y_train, y_test = X_aug[train,:], X_aug[test,:], y_aug[train], y_aug[test]\n",
    "    clf = RF(n_estimators=100, n_jobs=3)\n",
    "    clf.fit(X_train, y_train)\n",
    "    y_aug_pred[test] = clf.predict_proba(X_test)"
   ]
  },
  {
   "cell_type": "code",
   "execution_count": 40,
   "metadata": {},
   "outputs": [
    {
     "data": {
      "text/plain": [
       "0.83528301329128241"
      ]
     },
     "execution_count": 40,
     "metadata": {},
     "output_type": "execute_result"
    }
   ],
   "source": [
    "multiclass_log_loss(y_aug, y_aug_pred)"
   ]
  },
  {
   "cell_type": "code",
   "execution_count": 41,
   "metadata": {},
   "outputs": [
    {
     "ename": "ValueError",
     "evalue": "Mix type of y not allowed, got types {'continuous-multioutput', 'multiclass'}",
     "output_type": "error",
     "traceback": [
      "\u001b[0;31m---------------------------------------------------------------------------\u001b[0m",
      "\u001b[0;31mValueError\u001b[0m                                Traceback (most recent call last)",
      "\u001b[0;32m<ipython-input-41-e6bee7de603e>\u001b[0m in \u001b[0;36m<module>\u001b[0;34m()\u001b[0m\n\u001b[0;32m----> 1\u001b[0;31m \u001b[0mprint\u001b[0m\u001b[0;34m(\u001b[0m\u001b[0mclassification_report\u001b[0m\u001b[0;34m(\u001b[0m\u001b[0my_aug\u001b[0m\u001b[0;34m,\u001b[0m \u001b[0my_aug_pred\u001b[0m\u001b[0;34m,\u001b[0m \u001b[0mtarget_names\u001b[0m\u001b[0;34m=\u001b[0m\u001b[0mnamesClasses\u001b[0m\u001b[0;34m)\u001b[0m\u001b[0;34m)\u001b[0m\u001b[0;34m\u001b[0m\u001b[0m\n\u001b[0m",
      "\u001b[0;32m~/miniconda3/envs/honours/lib/python3.6/site-packages/sklearn/metrics/classification.py\u001b[0m in \u001b[0;36mclassification_report\u001b[0;34m(y_true, y_pred, labels, target_names, sample_weight, digits)\u001b[0m\n\u001b[1;32m   1419\u001b[0m \u001b[0;34m\u001b[0m\u001b[0m\n\u001b[1;32m   1420\u001b[0m     \u001b[0;32mif\u001b[0m \u001b[0mlabels\u001b[0m \u001b[0;32mis\u001b[0m \u001b[0;32mNone\u001b[0m\u001b[0;34m:\u001b[0m\u001b[0;34m\u001b[0m\u001b[0m\n\u001b[0;32m-> 1421\u001b[0;31m         \u001b[0mlabels\u001b[0m \u001b[0;34m=\u001b[0m \u001b[0munique_labels\u001b[0m\u001b[0;34m(\u001b[0m\u001b[0my_true\u001b[0m\u001b[0;34m,\u001b[0m \u001b[0my_pred\u001b[0m\u001b[0;34m)\u001b[0m\u001b[0;34m\u001b[0m\u001b[0m\n\u001b[0m\u001b[1;32m   1422\u001b[0m     \u001b[0;32melse\u001b[0m\u001b[0;34m:\u001b[0m\u001b[0;34m\u001b[0m\u001b[0m\n\u001b[1;32m   1423\u001b[0m         \u001b[0mlabels\u001b[0m \u001b[0;34m=\u001b[0m \u001b[0mnp\u001b[0m\u001b[0;34m.\u001b[0m\u001b[0masarray\u001b[0m\u001b[0;34m(\u001b[0m\u001b[0mlabels\u001b[0m\u001b[0;34m)\u001b[0m\u001b[0;34m\u001b[0m\u001b[0m\n",
      "\u001b[0;32m~/miniconda3/envs/honours/lib/python3.6/site-packages/sklearn/utils/multiclass.py\u001b[0m in \u001b[0;36munique_labels\u001b[0;34m(*ys)\u001b[0m\n\u001b[1;32m     81\u001b[0m \u001b[0;34m\u001b[0m\u001b[0m\n\u001b[1;32m     82\u001b[0m     \u001b[0;32mif\u001b[0m \u001b[0mlen\u001b[0m\u001b[0;34m(\u001b[0m\u001b[0mys_types\u001b[0m\u001b[0;34m)\u001b[0m \u001b[0;34m>\u001b[0m \u001b[0;36m1\u001b[0m\u001b[0;34m:\u001b[0m\u001b[0;34m\u001b[0m\u001b[0m\n\u001b[0;32m---> 83\u001b[0;31m         \u001b[0;32mraise\u001b[0m \u001b[0mValueError\u001b[0m\u001b[0;34m(\u001b[0m\u001b[0;34m\"Mix type of y not allowed, got types %s\"\u001b[0m \u001b[0;34m%\u001b[0m \u001b[0mys_types\u001b[0m\u001b[0;34m)\u001b[0m\u001b[0;34m\u001b[0m\u001b[0m\n\u001b[0m\u001b[1;32m     84\u001b[0m \u001b[0;34m\u001b[0m\u001b[0m\n\u001b[1;32m     85\u001b[0m     \u001b[0mlabel_type\u001b[0m \u001b[0;34m=\u001b[0m \u001b[0mys_types\u001b[0m\u001b[0;34m.\u001b[0m\u001b[0mpop\u001b[0m\u001b[0;34m(\u001b[0m\u001b[0;34m)\u001b[0m\u001b[0;34m\u001b[0m\u001b[0m\n",
      "\u001b[0;31mValueError\u001b[0m: Mix type of y not allowed, got types {'continuous-multioutput', 'multiclass'}"
     ]
    }
   ],
   "source": [
    "print(classification_report(y_aug, y_aug_pred, target_names=namesClasses))"
   ]
  },
  {
   "cell_type": "code",
   "execution_count": 47,
   "metadata": {},
   "outputs": [
    {
     "data": {
      "text/plain": [
       "(142368, 10)"
      ]
     },
     "execution_count": 47,
     "metadata": {},
     "output_type": "execute_result"
    }
   ],
   "source": [
    "y_aug_pred.shape"
   ]
  },
  {
   "cell_type": "code",
   "execution_count": null,
   "metadata": {
    "collapsed": true
   },
   "outputs": [],
   "source": []
  },
  {
   "cell_type": "markdown",
   "metadata": {},
   "source": [
    "The multiclass log loss function is an classification error metric that heavily penalizes you for being both confident (either predicting very high or very low class probability) and wrong. Throughout the competition you will want to check that your model improvements are driving this loss metric lower.\n",
    "\n",
    "#### Where to Go From Here\n",
    "\n",
    "Now that you've made a simple metric, created a model, and examined the model's performance on the training data, the next step is to make improvements to your model to make it more competitive. The random forest model we created does not perform evenly across all classes and in some cases fails completely. By creating new features and looking at some of your distributions for the problem classes directly, you can identify features that specifically help separate those classes from the others. You can add new metrics by considering other image properties, stratified sampling, transformations, or other models for the classification."
   ]
  },
  {
   "cell_type": "code",
   "execution_count": 38,
   "metadata": {},
   "outputs": [
    {
     "name": "stdout",
     "output_type": "stream",
     "text": [
      "Shapes: (2373, 626) (593, 626) (2373,) (593,)\n"
     ]
    }
   ],
   "source": []
  },
  {
   "cell_type": "code",
   "execution_count": 43,
   "metadata": {},
   "outputs": [
    {
     "data": {
      "text/plain": [
       "593"
      ]
     },
     "execution_count": 43,
     "metadata": {},
     "output_type": "execute_result"
    }
   ],
   "source": [
    "len(y_test)"
   ]
  },
  {
   "cell_type": "code",
   "execution_count": 57,
   "metadata": {},
   "outputs": [
    {
     "data": {
      "text/plain": [
       "10"
      ]
     },
     "execution_count": 57,
     "metadata": {},
     "output_type": "execute_result"
    }
   ],
   "source": [
    " len(set(train_labels))"
   ]
  },
  {
   "cell_type": "code",
   "execution_count": 77,
   "metadata": {},
   "outputs": [
    {
     "data": {
      "text/plain": [
       "numpy.float32"
      ]
     },
     "execution_count": 77,
     "metadata": {},
     "output_type": "execute_result"
    }
   ],
   "source": [
    "type(train_data[0,0])"
   ]
  },
  {
   "cell_type": "code",
   "execution_count": null,
   "metadata": {
    "collapsed": true
   },
   "outputs": [],
   "source": []
  },
  {
   "cell_type": "code",
   "execution_count": null,
   "metadata": {
    "collapsed": true
   },
   "outputs": [],
   "source": []
  }
 ],
 "metadata": {
  "kernelspec": {
   "display_name": "Python 3",
   "language": "python",
   "name": "python3"
  },
  "language_info": {
   "codemirror_mode": {
    "name": "ipython",
    "version": 3
   },
   "file_extension": ".py",
   "mimetype": "text/x-python",
   "name": "python",
   "nbconvert_exporter": "python",
   "pygments_lexer": "ipython3",
   "version": "3.6.2"
  }
 },
 "nbformat": 4,
 "nbformat_minor": 2
}
